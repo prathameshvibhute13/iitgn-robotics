{
  "nbformat": 4,
  "nbformat_minor": 0,
  "metadata": {
    "colab": {
      "name": "18110186_Q1A6A7.ipynb",
      "provenance": []
    },
    "kernelspec": {
      "name": "python3",
      "display_name": "Python 3"
    },
    "language_info": {
      "name": "python"
    }
  },
  "cells": [
    {
      "cell_type": "markdown",
      "metadata": {
        "id": "lrab4KzAxNDh"
      },
      "source": [
        "Question 1\n",
        "\n",
        "Initial point A=[0.4,0.06,0.1]\n",
        "\n",
        "Final point B=[0.4,0.01,0.1]\n",
        "\n",
        "vi=0=vf"
      ]
    },
    {
      "cell_type": "code",
      "metadata": {
        "id": "mtJKVdUZxCrN"
      },
      "source": [
        "import numpy as np\n",
        "import math\n",
        "import matplotlib.pyplot as plt"
      ],
      "execution_count": 74,
      "outputs": []
    },
    {
      "cell_type": "markdown",
      "metadata": {
        "id": "yZj-TcC1yqvI"
      },
      "source": [
        "Let the time taken to follow the trajectory is 1 second."
      ]
    },
    {
      "cell_type": "code",
      "metadata": {
        "id": "Gl4-qbZyxxyJ"
      },
      "source": [
        "to=0;\n",
        "tf=1;\n",
        "A=[0.4,0.06,0.1];\n",
        "B=[0.4,0.01,0.1];"
      ],
      "execution_count": 75,
      "outputs": []
    },
    {
      "cell_type": "markdown",
      "metadata": {
        "id": "zzO3V4JRzCj4"
      },
      "source": [
        "M*a=b->a=M^-1*b"
      ]
    },
    {
      "cell_type": "code",
      "metadata": {
        "colab": {
          "base_uri": "https://localhost:8080/"
        },
        "id": "yqQhMy1Zy1xW",
        "outputId": "dae95c0b-1b7b-4d9b-9c8b-c306f479e196"
      },
      "source": [
        "M=np.matrix([[1,to,to**2,to**3],[0,1,2*to,3*(to**2)],[1,tf,tf**2,tf**3],[0,1,2*tf,3*(tf**2),]])\n",
        "M"
      ],
      "execution_count": 76,
      "outputs": [
        {
          "output_type": "execute_result",
          "data": {
            "text/plain": [
              "matrix([[1, 0, 0, 0],\n",
              "        [0, 1, 0, 0],\n",
              "        [1, 1, 1, 1],\n",
              "        [0, 1, 2, 3]])"
            ]
          },
          "metadata": {},
          "execution_count": 76
        }
      ]
    },
    {
      "cell_type": "markdown",
      "metadata": {
        "id": "JuyrJJIG0kaN"
      },
      "source": [
        "Only y coordinate is changing"
      ]
    },
    {
      "cell_type": "code",
      "metadata": {
        "colab": {
          "base_uri": "https://localhost:8080/"
        },
        "id": "7VBFe1IWz-mx",
        "outputId": "7b85b564-f326-489b-da87-bb8c7e9901fe"
      },
      "source": [
        "b=np.matrix([[A[1],0,B[1],0]]).T\n",
        "b"
      ],
      "execution_count": 77,
      "outputs": [
        {
          "output_type": "execute_result",
          "data": {
            "text/plain": [
              "matrix([[0.06],\n",
              "        [0.  ],\n",
              "        [0.01],\n",
              "        [0.  ]])"
            ]
          },
          "metadata": {},
          "execution_count": 77
        }
      ]
    },
    {
      "cell_type": "code",
      "metadata": {
        "colab": {
          "base_uri": "https://localhost:8080/"
        },
        "id": "4pF-oQl1031l",
        "outputId": "5a15f1d0-7e1e-4e58-b659-c54be1870ba3"
      },
      "source": [
        "a=np.matmul(np.linalg.inv(M),b)\n",
        "a"
      ],
      "execution_count": 78,
      "outputs": [
        {
          "output_type": "execute_result",
          "data": {
            "text/plain": [
              "matrix([[ 0.06],\n",
              "        [ 0.  ],\n",
              "        [-0.15],\n",
              "        [ 0.1 ]])"
            ]
          },
          "metadata": {},
          "execution_count": 78
        }
      ]
    },
    {
      "cell_type": "code",
      "metadata": {
        "id": "4OtuK4zm1Ajm"
      },
      "source": [
        "qp=[]\n",
        "qv=[]\n",
        "qa=[]\n",
        "t=[]\n",
        "while(to<tf):\n",
        "  qp.append(a[0,0]+a[1,0]*to+a[2,0]*(to**2)+a[3,0]*(to**3))\n",
        "  qv.append(a[1,0]+2*a[2,0]*to+3*a[3,0]*(to**2))\n",
        "  qa.append(2*a[2,0]+6*a[3,0]*to)\n",
        "  t.append(to)\n",
        "  to+=0.01\n"
      ],
      "execution_count": 79,
      "outputs": []
    },
    {
      "cell_type": "markdown",
      "metadata": {
        "id": "h3J6fvAA1dEH"
      },
      "source": [
        "Plotting"
      ]
    },
    {
      "cell_type": "code",
      "metadata": {
        "colab": {
          "base_uri": "https://localhost:8080/",
          "height": 851
        },
        "id": "Jolw7ZT93Beq",
        "outputId": "bee8a21b-ef99-4770-fcb0-415935f4007a"
      },
      "source": [
        "plt.plot(t,qp)\n",
        "plt.title(\"Position V/S Time\")\n",
        "plt.ylabel(\"Position\")\n",
        "plt.xlabel(\"Time\")\n",
        "plt.show()\n",
        "\n",
        "plt.plot(t,qv)\n",
        "plt.title(\"Velocity V/S Time\")\n",
        "plt.ylabel(\"Velocity\")\n",
        "plt.xlabel(\"Time\")\n",
        "plt.show()\n",
        "\n",
        "plt.plot(t,qa)\n",
        "plt.title(\"Acceleration V/S Time\")\n",
        "plt.ylabel(\"Acceleration\")\n",
        "plt.xlabel(\"Time\")\n",
        "plt.show()"
      ],
      "execution_count": 80,
      "outputs": [
        {
          "output_type": "display_data",
          "data": {
            "image/png": "[encoded data removed]",
            "text/plain": [
              "<Figure size 432x288 with 1 Axes>"
            ]
          },
          "metadata": {
            "needs_background": "light"
          }
        },
        {
          "output_type": "display_data",
          "data": {
            "image/png": "[encoded data removed]",
            "text/plain": [
              "<Figure size 432x288 with 1 Axes>"
            ]
          },
          "metadata": {
            "needs_background": "light"
          }
        },
        {
          "output_type": "display_data",
          "data": {
            "image/png": "[encoded data removed]",
            "text/plain": [
              "<Figure size 432x288 with 1 Axes>"
            ]
          },
          "metadata": {
            "needs_background": "light"
          }
        }
      ]
    },
    {
      "cell_type": "code",
      "metadata": {
        "id": "5w4FOjUQ3WNY"
      },
      "source": [
        ""
      ],
      "execution_count": 80,
      "outputs": []
    }
  ]
}